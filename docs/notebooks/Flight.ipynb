{
 "cells": [
  {
   "cell_type": "markdown",
   "id": "1eb50deb-b823-4fc7-a0b6-7b5a4aec33b4",
   "metadata": {},
   "source": [
    "# Flight\n",
    "\n",
    "Data structure for working with flight trajectories."
   ]
  },
  {
   "cell_type": "code",
   "execution_count": 1,
   "id": "8fe9ca86-dbf6-4d81-b9c5-f4bdf4f7f90e",
   "metadata": {},
   "outputs": [],
   "source": [
    "import pandas as pd\n",
    "import numpy as np\n",
    "\n",
    "from pycontrails import Flight\n",
    "from pycontrails.datalib.ecmwf import ERA5"
   ]
  },
  {
   "cell_type": "markdown",
   "id": "3e0cfd47-f840-4ce2-b76f-1f0780fd900c",
   "metadata": {},
   "source": [
    "## Create Flight"
   ]
  },
  {
   "cell_type": "markdown",
   "id": "a8487043-0ca1-4325-a511-6c283954c294",
   "metadata": {},
   "source": [
    "### From Numpy Arrays"
   ]
  },
  {
   "cell_type": "code",
   "execution_count": 2,
   "id": "51ffaaa6-508d-4a6f-986a-3409ba0cd4c1",
   "metadata": {},
   "outputs": [
    {
     "data": {
      "text/html": [
       "<b>Flight</b> [4 keys x 100 length, 2 attributes]<br/ ><br/><table><tr style=\"border-bottom:1px solid silver\"><th colspan=\"2\">Attributes</th></tr><tr><td>time</td><td>[2022-03-01 00:00:00, 2022-03-01 02:00:00]</td></tr><tr><td>longitude</td><td>[0.0, 50.0]</td></tr><tr><td>latitude</td><td>[0.0, 10.0]</td></tr><tr><td>altitude</td><td>[11000.0, 11500.0]</td></tr><tr><td>flight_id</td><td>id</td></tr><tr><td>crs</td><td>EPSG:4326</td></tr></table><div>\n",
       "<style scoped>\n",
       "    .dataframe tbody tr th:only-of-type {\n",
       "        vertical-align: middle;\n",
       "    }\n",
       "\n",
       "    .dataframe tbody tr th {\n",
       "        vertical-align: top;\n",
       "    }\n",
       "\n",
       "    .dataframe thead th {\n",
       "        text-align: right;\n",
       "    }\n",
       "</style>\n",
       "<table border=\"1\" class=\"dataframe\">\n",
       "  <thead>\n",
       "    <tr style=\"text-align: right;\">\n",
       "      <th></th>\n",
       "      <th>longitude</th>\n",
       "      <th>latitude</th>\n",
       "      <th>time</th>\n",
       "      <th>altitude</th>\n",
       "    </tr>\n",
       "  </thead>\n",
       "  <tbody>\n",
       "    <tr>\n",
       "      <th>0</th>\n",
       "      <td>0.000000</td>\n",
       "      <td>0.00000</td>\n",
       "      <td>2022-03-01 00:00:00.000000000</td>\n",
       "      <td>11000.000000</td>\n",
       "    </tr>\n",
       "    <tr>\n",
       "      <th>1</th>\n",
       "      <td>0.505051</td>\n",
       "      <td>0.10101</td>\n",
       "      <td>2022-03-01 00:01:12.727272727</td>\n",
       "      <td>11005.050505</td>\n",
       "    </tr>\n",
       "    <tr>\n",
       "      <th>2</th>\n",
       "      <td>1.010101</td>\n",
       "      <td>0.20202</td>\n",
       "      <td>2022-03-01 00:02:25.454545454</td>\n",
       "      <td>11010.101010</td>\n",
       "    </tr>\n",
       "    <tr>\n",
       "      <th>3</th>\n",
       "      <td>1.515152</td>\n",
       "      <td>0.30303</td>\n",
       "      <td>2022-03-01 00:03:38.181818181</td>\n",
       "      <td>11015.151515</td>\n",
       "    </tr>\n",
       "    <tr>\n",
       "      <th>4</th>\n",
       "      <td>2.020202</td>\n",
       "      <td>0.40404</td>\n",
       "      <td>2022-03-01 00:04:50.909090909</td>\n",
       "      <td>11020.202020</td>\n",
       "    </tr>\n",
       "    <tr>\n",
       "      <th>...</th>\n",
       "      <td>...</td>\n",
       "      <td>...</td>\n",
       "      <td>...</td>\n",
       "      <td>...</td>\n",
       "    </tr>\n",
       "    <tr>\n",
       "      <th>95</th>\n",
       "      <td>47.979798</td>\n",
       "      <td>9.59596</td>\n",
       "      <td>2022-03-01 01:55:09.090909090</td>\n",
       "      <td>11479.797980</td>\n",
       "    </tr>\n",
       "    <tr>\n",
       "      <th>96</th>\n",
       "      <td>48.484848</td>\n",
       "      <td>9.69697</td>\n",
       "      <td>2022-03-01 01:56:21.818181818</td>\n",
       "      <td>11484.848485</td>\n",
       "    </tr>\n",
       "    <tr>\n",
       "      <th>97</th>\n",
       "      <td>48.989899</td>\n",
       "      <td>9.79798</td>\n",
       "      <td>2022-03-01 01:57:34.545454545</td>\n",
       "      <td>11489.898990</td>\n",
       "    </tr>\n",
       "    <tr>\n",
       "      <th>98</th>\n",
       "      <td>49.494949</td>\n",
       "      <td>9.89899</td>\n",
       "      <td>2022-03-01 01:58:47.272727272</td>\n",
       "      <td>11494.949495</td>\n",
       "    </tr>\n",
       "    <tr>\n",
       "      <th>99</th>\n",
       "      <td>50.000000</td>\n",
       "      <td>10.00000</td>\n",
       "      <td>2022-03-01 02:00:00.000000000</td>\n",
       "      <td>11500.000000</td>\n",
       "    </tr>\n",
       "  </tbody>\n",
       "</table>\n",
       "<p>100 rows × 4 columns</p>\n",
       "</div>"
      ],
      "text/plain": [
       "Flight [4 keys x 100 length, 2 attributes]\n",
       "\tKeys: longitude, latitude, time, altitude\n",
       "\tAttributes:\n",
       "\ttime                [2022-03-01 00:00:00, 2022-03-01 02:00:00]\n",
       "\tlongitude           [0.0, 50.0]\n",
       "\tlatitude            [0.0, 10.0]\n",
       "\taltitude            [11000.0, 11500.0]\n",
       "\tflight_id           id\n",
       "\tcrs                 EPSG:4326"
      ]
     },
     "execution_count": 2,
     "metadata": {},
     "output_type": "execute_result"
    }
   ],
   "source": [
    "# waypoints\n",
    "longitude = np.linspace(0, 50, 100)\n",
    "latitude = np.linspace(0, 10, 100)\n",
    "altitude = np.linspace(11000, 11500, 100)\n",
    "time = pd.date_range(\"2022-03-01 00:00:00\", \"2022-03-01 02:00:00\", periods=100)\n",
    "\n",
    "fl = Flight(longitude=longitude, latitude=latitude, altitude=altitude, time=time, flight_id=\"id\")\n",
    "fl"
   ]
  },
  {
   "cell_type": "markdown",
   "id": "04eb7d68-dcc2-424f-b98e-7711dc25a866",
   "metadata": {},
   "source": [
    "### From Pandas DataFrame"
   ]
  },
  {
   "cell_type": "code",
   "execution_count": 3,
   "id": "1cb66486-3fef-4e7c-ad7f-203ab2698c23",
   "metadata": {},
   "outputs": [
    {
     "data": {
      "text/html": [
       "<b>Flight</b> [4 keys x 100 length, 2 attributes]<br/ ><br/><table><tr style=\"border-bottom:1px solid silver\"><th colspan=\"2\">Attributes</th></tr><tr><td>time</td><td>[2022-03-01 00:00:00, 2022-03-01 02:00:00]</td></tr><tr><td>longitude</td><td>[0.0, 50.0]</td></tr><tr><td>latitude</td><td>[0.0, 10.0]</td></tr><tr><td>altitude</td><td>[11000.0, 11000.0]</td></tr><tr><td>flight_id</td><td>ABC</td></tr><tr><td>crs</td><td>EPSG:4326</td></tr></table><div>\n",
       "<style scoped>\n",
       "    .dataframe tbody tr th:only-of-type {\n",
       "        vertical-align: middle;\n",
       "    }\n",
       "\n",
       "    .dataframe tbody tr th {\n",
       "        vertical-align: top;\n",
       "    }\n",
       "\n",
       "    .dataframe thead th {\n",
       "        text-align: right;\n",
       "    }\n",
       "</style>\n",
       "<table border=\"1\" class=\"dataframe\">\n",
       "  <thead>\n",
       "    <tr style=\"text-align: right;\">\n",
       "      <th></th>\n",
       "      <th>longitude</th>\n",
       "      <th>latitude</th>\n",
       "      <th>altitude</th>\n",
       "      <th>time</th>\n",
       "    </tr>\n",
       "  </thead>\n",
       "  <tbody>\n",
       "    <tr>\n",
       "      <th>0</th>\n",
       "      <td>0.000000</td>\n",
       "      <td>0.00000</td>\n",
       "      <td>11000.0</td>\n",
       "      <td>2022-03-01 00:00:00.000000000</td>\n",
       "    </tr>\n",
       "    <tr>\n",
       "      <th>1</th>\n",
       "      <td>0.505051</td>\n",
       "      <td>0.10101</td>\n",
       "      <td>11000.0</td>\n",
       "      <td>2022-03-01 00:01:12.727272727</td>\n",
       "    </tr>\n",
       "    <tr>\n",
       "      <th>2</th>\n",
       "      <td>1.010101</td>\n",
       "      <td>0.20202</td>\n",
       "      <td>11000.0</td>\n",
       "      <td>2022-03-01 00:02:25.454545454</td>\n",
       "    </tr>\n",
       "    <tr>\n",
       "      <th>3</th>\n",
       "      <td>1.515152</td>\n",
       "      <td>0.30303</td>\n",
       "      <td>11000.0</td>\n",
       "      <td>2022-03-01 00:03:38.181818181</td>\n",
       "    </tr>\n",
       "    <tr>\n",
       "      <th>4</th>\n",
       "      <td>2.020202</td>\n",
       "      <td>0.40404</td>\n",
       "      <td>11000.0</td>\n",
       "      <td>2022-03-01 00:04:50.909090909</td>\n",
       "    </tr>\n",
       "    <tr>\n",
       "      <th>...</th>\n",
       "      <td>...</td>\n",
       "      <td>...</td>\n",
       "      <td>...</td>\n",
       "      <td>...</td>\n",
       "    </tr>\n",
       "    <tr>\n",
       "      <th>95</th>\n",
       "      <td>47.979798</td>\n",
       "      <td>9.59596</td>\n",
       "      <td>11000.0</td>\n",
       "      <td>2022-03-01 01:55:09.090909090</td>\n",
       "    </tr>\n",
       "    <tr>\n",
       "      <th>96</th>\n",
       "      <td>48.484848</td>\n",
       "      <td>9.69697</td>\n",
       "      <td>11000.0</td>\n",
       "      <td>2022-03-01 01:56:21.818181818</td>\n",
       "    </tr>\n",
       "    <tr>\n",
       "      <th>97</th>\n",
       "      <td>48.989899</td>\n",
       "      <td>9.79798</td>\n",
       "      <td>11000.0</td>\n",
       "      <td>2022-03-01 01:57:34.545454545</td>\n",
       "    </tr>\n",
       "    <tr>\n",
       "      <th>98</th>\n",
       "      <td>49.494949</td>\n",
       "      <td>9.89899</td>\n",
       "      <td>11000.0</td>\n",
       "      <td>2022-03-01 01:58:47.272727272</td>\n",
       "    </tr>\n",
       "    <tr>\n",
       "      <th>99</th>\n",
       "      <td>50.000000</td>\n",
       "      <td>10.00000</td>\n",
       "      <td>11000.0</td>\n",
       "      <td>2022-03-01 02:00:00.000000000</td>\n",
       "    </tr>\n",
       "  </tbody>\n",
       "</table>\n",
       "<p>100 rows × 4 columns</p>\n",
       "</div>"
      ],
      "text/plain": [
       "Flight [4 keys x 100 length, 2 attributes]\n",
       "\tKeys: longitude, latitude, altitude, time\n",
       "\tAttributes:\n",
       "\ttime                [2022-03-01 00:00:00, 2022-03-01 02:00:00]\n",
       "\tlongitude           [0.0, 50.0]\n",
       "\tlatitude            [0.0, 10.0]\n",
       "\taltitude            [11000.0, 11000.0]\n",
       "\tflight_id           ABC\n",
       "\tcrs                 EPSG:4326"
      ]
     },
     "execution_count": 3,
     "metadata": {},
     "output_type": "execute_result"
    }
   ],
   "source": [
    "# Example flight\n",
    "df = pd.DataFrame()\n",
    "df[\"longitude\"] = np.linspace(0, 50, 100)\n",
    "df[\"latitude\"] = np.linspace(0, 10, 100)\n",
    "df[\"altitude\"] = 11000\n",
    "df[\"time\"] = pd.date_range(\"2022-03-01 00:00:00\", \"2022-03-01 02:00:00\", periods=100)\n",
    "fl = Flight(data=df, flight_id=\"ABC\")\n",
    "fl"
   ]
  },
  {
   "cell_type": "markdown",
   "id": "c0e32728-4389-438c-9e7f-c455fd39c747",
   "metadata": {},
   "source": [
    "### Create Flight without Waypoints"
   ]
  },
  {
   "cell_type": "code",
   "execution_count": 4,
   "id": "87c7f87c-97d0-49c2-b8cb-43140bb2275a",
   "metadata": {},
   "outputs": [
    {
     "data": {
      "text/html": [
       "<b>Flight</b> [4 keys x 0 length, 3 attributes]<br/ ><br/><table><tr style=\"border-bottom:1px solid silver\"><th colspan=\"2\">Attributes</th></tr><tr><td>flight_id</td><td>1234</td></tr><tr><td>equip</td><td>A532</td></tr><tr><td>crs</td><td>EPSG:4326</td></tr></table><div>\n",
       "<style scoped>\n",
       "    .dataframe tbody tr th:only-of-type {\n",
       "        vertical-align: middle;\n",
       "    }\n",
       "\n",
       "    .dataframe tbody tr th {\n",
       "        vertical-align: top;\n",
       "    }\n",
       "\n",
       "    .dataframe thead th {\n",
       "        text-align: right;\n",
       "    }\n",
       "</style>\n",
       "<table border=\"1\" class=\"dataframe\">\n",
       "  <thead>\n",
       "    <tr style=\"text-align: right;\">\n",
       "      <th></th>\n",
       "      <th>longitude</th>\n",
       "      <th>latitude</th>\n",
       "      <th>time</th>\n",
       "      <th>altitude</th>\n",
       "    </tr>\n",
       "  </thead>\n",
       "  <tbody>\n",
       "  </tbody>\n",
       "</table>\n",
       "</div>"
      ],
      "text/plain": [
       "Flight [4 keys x 0 length, 3 attributes]\n",
       "\tKeys: longitude, latitude, time, altitude\n",
       "\tAttributes:\n",
       "\tflight_id           1234\n",
       "\tequip               A532\n",
       "\tcrs                 EPSG:4326"
      ]
     },
     "execution_count": 4,
     "metadata": {},
     "output_type": "execute_result"
    }
   ],
   "source": [
    "# Example flight\n",
    "attrs = dict(flight_id=\"1234\", equip=\"A532\")\n",
    "fl = Flight.create_empty(attrs=attrs)\n",
    "fl"
   ]
  },
  {
   "cell_type": "markdown",
   "id": "466bccb8-6598-4119-b933-4c830ad539ef",
   "metadata": {},
   "source": [
    "### Create from CSV file"
   ]
  },
  {
   "cell_type": "code",
   "execution_count": 5,
   "id": "99710afc-7ffb-4bb2-8fc6-5bdf1676f11b",
   "metadata": {},
   "outputs": [
    {
     "data": {
      "text/html": [
       "<b>Flight</b> [4 keys x 175 length, 2 attributes]<br/ ><br/><table><tr style=\"border-bottom:1px solid silver\"><th colspan=\"2\">Attributes</th></tr><tr><td>time</td><td>[2022-03-01 00:50:00, 2022-03-01 03:47:00]</td></tr><tr><td>longitude</td><td>[-97.026, -77.036]</td></tr><tr><td>latitude</td><td>[32.931, 38.854]</td></tr><tr><td>altitude</td><td>[190.5, 11582.4]</td></tr><tr><td>flight_id</td><td>csv</td></tr><tr><td>crs</td><td>EPSG:4326</td></tr></table><div>\n",
       "<style scoped>\n",
       "    .dataframe tbody tr th:only-of-type {\n",
       "        vertical-align: middle;\n",
       "    }\n",
       "\n",
       "    .dataframe tbody tr th {\n",
       "        vertical-align: top;\n",
       "    }\n",
       "\n",
       "    .dataframe thead th {\n",
       "        text-align: right;\n",
       "    }\n",
       "</style>\n",
       "<table border=\"1\" class=\"dataframe\">\n",
       "  <thead>\n",
       "    <tr style=\"text-align: right;\">\n",
       "      <th></th>\n",
       "      <th>longitude</th>\n",
       "      <th>latitude</th>\n",
       "      <th>altitude</th>\n",
       "      <th>time</th>\n",
       "    </tr>\n",
       "  </thead>\n",
       "  <tbody>\n",
       "    <tr>\n",
       "      <th>0</th>\n",
       "      <td>-77.035950</td>\n",
       "      <td>38.829315</td>\n",
       "      <td>236.22</td>\n",
       "      <td>2022-03-01 00:50:00</td>\n",
       "    </tr>\n",
       "    <tr>\n",
       "      <th>1</th>\n",
       "      <td>-77.038223</td>\n",
       "      <td>38.772675</td>\n",
       "      <td>708.66</td>\n",
       "      <td>2022-03-01 00:51:00</td>\n",
       "    </tr>\n",
       "    <tr>\n",
       "      <th>2</th>\n",
       "      <td>-77.114231</td>\n",
       "      <td>38.744568</td>\n",
       "      <td>9471.66</td>\n",
       "      <td>2022-03-01 00:52:00</td>\n",
       "    </tr>\n",
       "    <tr>\n",
       "      <th>3</th>\n",
       "      <td>-77.201965</td>\n",
       "      <td>38.739888</td>\n",
       "      <td>2019.30</td>\n",
       "      <td>2022-03-01 00:53:00</td>\n",
       "    </tr>\n",
       "    <tr>\n",
       "      <th>4</th>\n",
       "      <td>-77.286191</td>\n",
       "      <td>38.745117</td>\n",
       "      <td>3032.76</td>\n",
       "      <td>2022-03-01 00:54:00</td>\n",
       "    </tr>\n",
       "    <tr>\n",
       "      <th>...</th>\n",
       "      <td>...</td>\n",
       "      <td>...</td>\n",
       "      <td>...</td>\n",
       "      <td>...</td>\n",
       "    </tr>\n",
       "    <tr>\n",
       "      <th>170</th>\n",
       "      <td>-97.025925</td>\n",
       "      <td>32.931379</td>\n",
       "      <td>190.50</td>\n",
       "      <td>2022-03-01 03:43:00</td>\n",
       "    </tr>\n",
       "    <tr>\n",
       "      <th>171</th>\n",
       "      <td>-97.025922</td>\n",
       "      <td>32.930649</td>\n",
       "      <td>190.50</td>\n",
       "      <td>2022-03-01 03:44:00</td>\n",
       "    </tr>\n",
       "    <tr>\n",
       "      <th>172</th>\n",
       "      <td>-97.025922</td>\n",
       "      <td>32.930649</td>\n",
       "      <td>190.50</td>\n",
       "      <td>2022-03-01 03:45:00</td>\n",
       "    </tr>\n",
       "    <tr>\n",
       "      <th>173</th>\n",
       "      <td>-97.025922</td>\n",
       "      <td>32.930649</td>\n",
       "      <td>190.50</td>\n",
       "      <td>2022-03-01 03:46:00</td>\n",
       "    </tr>\n",
       "    <tr>\n",
       "      <th>174</th>\n",
       "      <td>-97.025922</td>\n",
       "      <td>32.930649</td>\n",
       "      <td>190.50</td>\n",
       "      <td>2022-03-01 03:47:00</td>\n",
       "    </tr>\n",
       "  </tbody>\n",
       "</table>\n",
       "<p>175 rows × 4 columns</p>\n",
       "</div>"
      ],
      "text/plain": [
       "Flight [4 keys x 175 length, 2 attributes]\n",
       "\tKeys: longitude, latitude, altitude, time\n",
       "\tAttributes:\n",
       "\ttime                [2022-03-01 00:50:00, 2022-03-01 03:47:00]\n",
       "\tlongitude           [-97.026, -77.036]\n",
       "\tlatitude            [32.931, 38.854]\n",
       "\taltitude            [190.5, 11582.4]\n",
       "\tflight_id           csv\n",
       "\tcrs                 EPSG:4326"
      ]
     },
     "execution_count": 5,
     "metadata": {},
     "output_type": "execute_result"
    }
   ],
   "source": [
    "# load flight\n",
    "df = pd.read_csv(\"data/flight.csv\")\n",
    "fl = Flight(data=df, flight_id=\"csv\")\n",
    "fl"
   ]
  },
  {
   "cell_type": "markdown",
   "id": "a25d0611-1e48-4a35-b98e-da53141861cb",
   "metadata": {},
   "source": [
    "## Using the Flight class"
   ]
  },
  {
   "cell_type": "markdown",
   "id": "aefb9131-b9b8-48cd-ad65-b3ab1a196e32",
   "metadata": {},
   "source": [
    "The `flight.data` attribute is a dictionary with `np.ndarray` values"
   ]
  },
  {
   "cell_type": "code",
   "execution_count": 6,
   "id": "ee298d9f-41ae-405c-acca-ef0d28e6b46b",
   "metadata": {},
   "outputs": [],
   "source": [
    "# waypoints\n",
    "longitude = np.linspace(0, 50, 10)\n",
    "latitude = np.linspace(0, 10, 10)\n",
    "altitude = np.linspace(11000, 11500, 10)\n",
    "time = pd.date_range(\"2022-03-01 00:00:00\", \"2022-03-01 02:00:00\", periods=10)\n",
    "attrs = {\"flight_id\": \"ABC123\"}\n",
    "fl = Flight(longitude=longitude, latitude=latitude, altitude=altitude, time=time, attrs=attrs)"
   ]
  },
  {
   "cell_type": "code",
   "execution_count": 7,
   "id": "93404304-b3fe-46d5-b243-5937f1bf0110",
   "metadata": {},
   "outputs": [
    {
     "data": {
      "text/plain": [
       "dict_keys(['longitude', 'latitude', 'time', 'altitude'])"
      ]
     },
     "execution_count": 7,
     "metadata": {},
     "output_type": "execute_result"
    }
   ],
   "source": [
    "fl.data.keys()"
   ]
  },
  {
   "cell_type": "markdown",
   "id": "497d9ca0-175c-4295-b885-cc5562256b96",
   "metadata": {},
   "source": [
    "`Flight` attributes are stored in a dictionary on the `attrs` attribute.\n",
    "The `crs` attribute is always added by default, if not specified."
   ]
  },
  {
   "cell_type": "code",
   "execution_count": 8,
   "id": "39413af7-323c-4198-a925-2fe8d5f0b19a",
   "metadata": {},
   "outputs": [
    {
     "data": {
      "text/plain": [
       "{'flight_id': 'ABC123', 'crs': 'EPSG:4326'}"
      ]
     },
     "execution_count": 8,
     "metadata": {},
     "output_type": "execute_result"
    }
   ],
   "source": [
    "fl.attrs"
   ]
  },
  {
   "cell_type": "markdown",
   "id": "8ae94b41-45f0-442c-a14f-1429bb334db9",
   "metadata": {},
   "source": [
    "Data can be set / get from the `Flight` like a dictionary"
   ]
  },
  {
   "cell_type": "code",
   "execution_count": 9,
   "id": "24ac70d3-69c5-4fe1-b556-75600ba95986",
   "metadata": {},
   "outputs": [
    {
     "data": {
      "text/plain": [
       "20.0"
      ]
     },
     "execution_count": 9,
     "metadata": {},
     "output_type": "execute_result"
    }
   ],
   "source": [
    "# get\n",
    "lat = fl[\"latitude\"]\n",
    "\n",
    "# set\n",
    "lat[5] = 20\n",
    "fl[\"latitude\"] = lat\n",
    "\n",
    "# get updated\n",
    "fl[\"latitude\"][5]"
   ]
  },
  {
   "cell_type": "markdown",
   "id": "9edf8212-d1a1-492a-9cf3-b3c181dfc3e0",
   "metadata": {},
   "source": [
    "The `Flight` class contains the following convenience properties"
   ]
  },
  {
   "cell_type": "code",
   "execution_count": 10,
   "id": "af5e31c9-a57f-4b24-ac16-20c0084e495d",
   "metadata": {},
   "outputs": [
    {
     "data": {
      "text/plain": [
       "array([226.3170091 , 224.34300442, 222.3862176 , 220.44649846,\n",
       "       218.52369813, 216.61766904, 214.7282649 , 212.85534072,\n",
       "       210.99875274, 209.15835847])"
      ]
     },
     "execution_count": 10,
     "metadata": {},
     "output_type": "execute_result"
    }
   ],
   "source": [
    "# Pressure altitude, in hPa\n",
    "fl.level"
   ]
  },
  {
   "cell_type": "code",
   "execution_count": 11,
   "id": "ec28ee2a-3cf0-4d0a-b323-7983ce6aff03",
   "metadata": {},
   "outputs": [
    {
     "data": {
      "text/plain": [
       "array([36089.23884514, 36271.5077282 , 36453.77661126, 36636.04549431,\n",
       "       36818.31437737, 37000.58326043, 37182.85214348, 37365.12102654,\n",
       "       37547.38990959, 37729.65879265])"
      ]
     },
     "execution_count": 11,
     "metadata": {},
     "output_type": "execute_result"
    }
   ],
   "source": [
    "# Altitude, in ft\n",
    "fl.altitude_ft"
   ]
  },
  {
   "cell_type": "code",
   "execution_count": 12,
   "id": "f4a37e46-f400-4bbb-a062-d92404b367c5",
   "metadata": {},
   "outputs": [
    {
     "data": {
      "text/plain": [
       "{'constant': 100, 'flight_id': 'ABC123', 'crs': 'EPSG:4326'}"
      ]
     },
     "execution_count": 12,
     "metadata": {},
     "output_type": "execute_result"
    }
   ],
   "source": [
    "# Values that are constant along the flight path\n",
    "\n",
    "# set constant value along flight waypoints\n",
    "fl[\"constant\"] = np.full(shape=fl.shape, fill_value=100)\n",
    "\n",
    "fl.constants"
   ]
  },
  {
   "cell_type": "code",
   "execution_count": 13,
   "id": "325eb70e-2987-4acb-be9d-91d130a74e39",
   "metadata": {},
   "outputs": [
    {
     "data": {
      "text/plain": [
       "7818835.115366629"
      ]
     },
     "execution_count": 13,
     "metadata": {},
     "output_type": "execute_result"
    }
   ],
   "source": [
    "# Flight distance, in meters\n",
    "fl.length"
   ]
  },
  {
   "cell_type": "code",
   "execution_count": 14,
   "id": "dc8ebe2e-2282-4ed5-84ae-a819737b647a",
   "metadata": {},
   "outputs": [
    {
     "name": "stdout",
     "output_type": "stream",
     "text": [
      "2022-03-01 00:00:00\n",
      "2022-03-01 02:00:00\n"
     ]
    }
   ],
   "source": [
    "# Time start/end\n",
    "print(fl.time_start)\n",
    "print(fl.time_end)"
   ]
  },
  {
   "cell_type": "code",
   "execution_count": 15,
   "id": "e92b50fc-e5ce-4375-bbc6-baadc94bb1f7",
   "metadata": {},
   "outputs": [
    {
     "data": {
      "text/plain": [
       "Timedelta('0 days 02:00:00')"
      ]
     },
     "execution_count": 15,
     "metadata": {},
     "output_type": "execute_result"
    }
   ],
   "source": [
    "# Flight duration, as a pandas Timedelta\n",
    "fl.duration"
   ]
  },
  {
   "cell_type": "code",
   "execution_count": 16,
   "id": "e9fa4eb0-89b2-44b0-9db3-48f75814fb54",
   "metadata": {},
   "outputs": [
    {
     "data": {
      "text/plain": [
       "Timedelta('0 days 00:13:20')"
      ]
     },
     "execution_count": 16,
     "metadata": {},
     "output_type": "execute_result"
    }
   ],
   "source": [
    "# Max time gap between waypoints, as a pandas Timedelta\n",
    "fl.max_time_gap"
   ]
  },
  {
   "cell_type": "code",
   "execution_count": 17,
   "id": "654d1c7b-fb19-4639-82a7-2fb5d0418501",
   "metadata": {},
   "outputs": [
    {
     "data": {
      "text/plain": [
       "1831403.3492360476"
      ]
     },
     "execution_count": 17,
     "metadata": {},
     "output_type": "execute_result"
    }
   ],
   "source": [
    "# Max distance gap between waypoints, in meters\n",
    "fl.max_distance_gap"
   ]
  },
  {
   "cell_type": "markdown",
   "id": "d7def91f-030b-4b6c-9bca-17c591b1450f",
   "metadata": {},
   "source": [
    "## Intersect with Met data"
   ]
  },
  {
   "cell_type": "code",
   "execution_count": 18,
   "id": "0b98eb74-f248-48e4-be52-c699332c84f6",
   "metadata": {},
   "outputs": [],
   "source": [
    "# waypoints\n",
    "longitude = np.linspace(0, 50, 50)\n",
    "latitude = np.linspace(0, 10, 50)\n",
    "altitude = np.linspace(11000, 11500, 50)\n",
    "time = pd.date_range(\"2022-03-01 00:00:00\", \"2022-03-01 02:00:00\", periods=50)\n",
    "fl = Flight(longitude=longitude, latitude=latitude, altitude=altitude, time=time, flight_id=\"ABC\")"
   ]
  },
  {
   "cell_type": "code",
   "execution_count": 19,
   "id": "e00b06a2-6b82-456c-b042-6d5c6304dece",
   "metadata": {},
   "outputs": [],
   "source": [
    "# domain\n",
    "time = (\"2022-03-01 00:00:00\", \"2022-03-01 03:00:00\")\n",
    "variables = [\"t\", \"q\", \"u\", \"v\", \"w\", \"ciwc\", \"z\", \"cc\"]\n",
    "pressure_levels = [300, 250, 200]\n",
    "\n",
    "# get met data\n",
    "era5 = ERA5(time=time, variables=variables, pressure_levels=pressure_levels)\n",
    "met = era5.open_metdataset()"
   ]
  },
  {
   "cell_type": "code",
   "execution_count": 20,
   "id": "f04526f6-44ca-4a50-ad0e-f4eeecd5e8ae",
   "metadata": {},
   "outputs": [
    {
     "data": {
      "text/plain": [
       "array([231.6297 , 231.5037 , 231.73001, 231.08833, 218.8252 , 218.8393 ,\n",
       "       219.00676, 218.07823, 218.66353, 219.61859, 219.48346, 219.66501,\n",
       "       219.8988 , 219.86067, 219.95186, 220.16989, 220.15166, 220.06793,\n",
       "       219.71309, 219.5191 , 219.5647 , 219.54646, 219.39972, 219.1908 ,\n",
       "       219.0192 , 219.02084, 219.36572, 219.42708, 219.39308, 219.49672,\n",
       "       219.63931, 219.63351, 219.80347, 219.72304, 218.88406, 218.68758,\n",
       "       219.5904 , 219.66667, 219.75786, 219.57713, 219.53734, 219.87642,\n",
       "       219.74045, 219.47931, 219.345  , 219.28697, 219.14354, 219.04074,\n",
       "       218.90147, 218.93463], dtype=float32)"
      ]
     },
     "execution_count": 20,
     "metadata": {},
     "output_type": "execute_result"
    }
   ],
   "source": [
    "# interpolate to nearest grid member\n",
    "fl.intersect_met(met[\"air_temperature\"], method=\"nearest\")"
   ]
  },
  {
   "cell_type": "code",
   "execution_count": 21,
   "id": "20da8279-b9cd-49a4-8445-1d61f42d7fdf",
   "metadata": {},
   "outputs": [
    {
     "data": {
      "text/plain": [
       "array([225.77794, 225.39075, 225.21887, 224.88387, 225.13017, 224.75333,\n",
       "       224.69849, 224.51218, 224.65642, 225.06851, 225.2779 , 225.23737,\n",
       "       225.27412, 225.21637, 225.02275, 225.16205, 225.02489, 224.83875,\n",
       "       224.50832, 224.36188, 224.2705 , 224.0278 , 223.71686, 223.553  ,\n",
       "       223.37677, 223.35237, 223.489  , 223.45067, 223.46031, 223.51036,\n",
       "       223.47456, 223.33977, 223.33707, 223.19572, 222.68132, 222.43277,\n",
       "       222.99377, 222.90991, 222.94348, 222.70607, 222.66989, 222.84317,\n",
       "       222.59155, 222.31973, 222.06894, 221.91066, 221.70157, 221.5247 ,\n",
       "       221.33913, 221.26541], dtype=float32)"
      ]
     },
     "execution_count": 21,
     "metadata": {},
     "output_type": "execute_result"
    }
   ],
   "source": [
    "# linear interpolation\n",
    "fl.intersect_met(met[\"air_temperature\"], method=\"linear\")"
   ]
  },
  {
   "cell_type": "markdown",
   "id": "7a441130-0b9c-494c-b50e-34b813a99f84",
   "metadata": {},
   "source": [
    "## Get Lengths"
   ]
  },
  {
   "cell_type": "code",
   "execution_count": 22,
   "id": "a532e7d5-0a8e-4045-9082-4cdf911bc0a1",
   "metadata": {},
   "outputs": [
    {
     "data": {
      "text/plain": [
       "5642421.5973290345"
      ]
     },
     "execution_count": 22,
     "metadata": {},
     "output_type": "execute_result"
    }
   ],
   "source": [
    "# total flight length in meters\n",
    "fl.length"
   ]
  },
  {
   "cell_type": "code",
   "execution_count": 23,
   "id": "c12d4b77-92e0-43dd-af32-806063e31d4a",
   "metadata": {},
   "outputs": [
    {
     "data": {
      "text/plain": [
       "462850.7958842697"
      ]
     },
     "execution_count": 23,
     "metadata": {},
     "output_type": "execute_result"
    }
   ],
   "source": [
    "# intersect flight with air temperature\n",
    "fl[\"temp\"] = fl.intersect_met(met[\"air_temperature\"], method=\"nearest\")\n",
    "\n",
    "# get the length of the flight where ambient temperature is > 226 K\n",
    "fl.length_met(\"temp\", threshold=226)"
   ]
  },
  {
   "cell_type": "markdown",
   "id": "d51f92a4-f023-4bd0-97dd-6f53b779ea71",
   "metadata": {},
   "source": [
    "## Plot and Resample"
   ]
  },
  {
   "cell_type": "code",
   "execution_count": 24,
   "id": "9a669b38-539d-4e24-90a7-1d64bc6e4b11",
   "metadata": {},
   "outputs": [
    {
     "data": {
      "text/plain": [
       "115715.16936791067"
      ]
     },
     "execution_count": 24,
     "metadata": {},
     "output_type": "execute_result"
    },
    {
     "data": {
      "image/png": "[encoded data removed]",
      "text/plain": [
       "<Figure size 1200x800 with 1 Axes>"
      ]
     },
     "metadata": {},
     "output_type": "display_data"
    }
   ],
   "source": [
    "fl.dataframe.plot.scatter(x=\"longitude\", y=\"latitude\", figsize=(12, 8))\n",
    "fl.max_distance_gap"
   ]
  },
  {
   "cell_type": "code",
   "execution_count": 25,
   "id": "1e15ac15-ca08-48f3-b92a-545a3c6f6fab",
   "metadata": {},
   "outputs": [
    {
     "data": {
      "text/plain": [
       "472488.41576537804"
      ]
     },
     "execution_count": 25,
     "metadata": {},
     "output_type": "execute_result"
    },
    {
     "data": {
      "image/png": "[encoded data removed]",
      "text/plain": [
       "<Figure size 1200x800 with 1 Axes>"
      ]
     },
     "metadata": {},
     "output_type": "display_data"
    }
   ],
   "source": [
    "# resample with 10 minute waypoints\n",
    "fl = fl.resample_and_fill(\"10T\")\n",
    "\n",
    "fl.dataframe.plot.scatter(x=\"longitude\", y=\"latitude\", figsize=(12, 8))\n",
    "fl.max_distance_gap"
   ]
  },
  {
   "cell_type": "code",
   "execution_count": 26,
   "id": "1ac38216-3d91-4660-9cf9-df2f0e1fb9e2",
   "metadata": {},
   "outputs": [
    {
     "data": {
      "text/plain": [
       "7874.969421029368"
      ]
     },
     "execution_count": 26,
     "metadata": {},
     "output_type": "execute_result"
    },
    {
     "data": {
      "image/png": "[encoded data removed]",
      "text/plain": [
       "<Figure size 1200x800 with 1 Axes>"
      ]
     },
     "metadata": {},
     "output_type": "display_data"
    }
   ],
   "source": [
    "# resample with 10 second waypoints\n",
    "fl = fl.resample_and_fill(\"10S\")\n",
    "\n",
    "fl.dataframe.plot.scatter(x=\"longitude\", y=\"latitude\", figsize=(12, 8))\n",
    "fl.max_distance_gap"
   ]
  }
 ],
 "metadata": {
  "kernelspec": {
   "display_name": "Python 3 (ipykernel)",
   "language": "python",
   "name": "python3"
  },
  "language_info": {
   "codemirror_mode": {
    "name": "ipython",
    "version": 3
   },
   "file_extension": ".py",
   "mimetype": "text/x-python",
   "name": "python",
   "nbconvert_exporter": "python",
   "pygments_lexer": "ipython3"
  }
 },
 "nbformat": 4,
 "nbformat_minor": 5
}
